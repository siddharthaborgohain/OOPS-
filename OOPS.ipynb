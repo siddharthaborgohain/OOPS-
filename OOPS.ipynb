{
  "nbformat": 4,
  "nbformat_minor": 0,
  "metadata": {
    "colab": {
      "name": "OOPS.ipynb",
      "provenance": [],
      "authorship_tag": "ABX9TyN9OiPEeCPl4jUA9L5BBBgu",
      "include_colab_link": true
    },
    "kernelspec": {
      "name": "python3",
      "display_name": "Python 3"
    },
    "language_info": {
      "name": "python"
    }
  },
  "cells": [
    {
      "cell_type": "markdown",
      "metadata": {
        "id": "view-in-github",
        "colab_type": "text"
      },
      "source": [
        "<a href=\"https://colab.research.google.com/github/siddharthaborgohain/OOPS-/blob/main/OOPS.ipynb\" target=\"_parent\"><img src=\"https://colab.research.google.com/assets/colab-badge.svg\" alt=\"Open In Colab\"/></a>"
      ]
    },
    {
      "cell_type": "code",
      "execution_count": 1,
      "metadata": {
        "id": "o7RgTYpKKgyn"
      },
      "outputs": [],
      "source": [
        "class person:\n",
        "  def __init__(self,name,surname,yob):\n",
        "    self.name1=name\n",
        "    self.surname1=surname\n",
        "    self.yob1=yob"
      ]
    },
    {
      "cell_type": "code",
      "source": [
        "p= person(\"sid\",\"borgohain\",1991)"
      ],
      "metadata": {
        "id": "WTbOUth6K_Wn"
      },
      "execution_count": 2,
      "outputs": []
    },
    {
      "cell_type": "code",
      "source": [
        "p.name1"
      ],
      "metadata": {
        "colab": {
          "base_uri": "https://localhost:8080/",
          "height": 35
        },
        "id": "_2SqNx9-LJ9o",
        "outputId": "c3beaf27-f41b-4b37-9a3d-27f71332a289"
      },
      "execution_count": 3,
      "outputs": [
        {
          "output_type": "execute_result",
          "data": {
            "text/plain": [
              "'sid'"
            ],
            "application/vnd.google.colaboratory.intrinsic+json": {
              "type": "string"
            }
          },
          "metadata": {},
          "execution_count": 3
        }
      ]
    },
    {
      "cell_type": "code",
      "source": [
        "a=person(\"sdsds\",\"dsds\",121)"
      ],
      "metadata": {
        "id": "gnPodVXKLLRi"
      },
      "execution_count": 4,
      "outputs": []
    },
    {
      "cell_type": "code",
      "source": [
        "a.yob1"
      ],
      "metadata": {
        "colab": {
          "base_uri": "https://localhost:8080/"
        },
        "id": "HdiL4sN9MaTJ",
        "outputId": "e0e844e2-8d69-4fe9-9a5c-28f5b72cbe9e"
      },
      "execution_count": 5,
      "outputs": [
        {
          "output_type": "execute_result",
          "data": {
            "text/plain": [
              "121"
            ]
          },
          "metadata": {},
          "execution_count": 5
        }
      ]
    },
    {
      "cell_type": "code",
      "source": [
        "class man:\n",
        "  def __init__(self,name,sname,yob):\n",
        "    self.name=name\n",
        "    self.sname=sname\n",
        "    self.yob=yob\n",
        "  def test(self,n,m):\n",
        "    return n+m+self.yob\n",
        "  def __str__(self):\n",
        "    return \"Its executed\"\n"
      ],
      "metadata": {
        "id": "2ECIooL6McqH"
      },
      "execution_count": 6,
      "outputs": []
    },
    {
      "cell_type": "code",
      "source": [
        "p=man(\"sid\",\"borgohain\",22)\n",
        "p.test(12,12)"
      ],
      "metadata": {
        "colab": {
          "base_uri": "https://localhost:8080/"
        },
        "id": "iUIz4SPRNBlf",
        "outputId": "e753b9ab-0419-4405-d54c-abd1be827e04"
      },
      "execution_count": 7,
      "outputs": [
        {
          "output_type": "execute_result",
          "data": {
            "text/plain": [
              "46"
            ]
          },
          "metadata": {},
          "execution_count": 7
        }
      ]
    },
    {
      "cell_type": "code",
      "source": [
        "s=man(\"sdd\",\"sadds\",24)"
      ],
      "metadata": {
        "id": "OkoSMvzkNKMp"
      },
      "execution_count": 8,
      "outputs": []
    },
    {
      "cell_type": "code",
      "source": [
        "print(s)"
      ],
      "metadata": {
        "colab": {
          "base_uri": "https://localhost:8080/"
        },
        "id": "wpdIWKUpN46v",
        "outputId": "bfd08791-2e8d-400a-b00a-5f054fb0fb42"
      },
      "execution_count": 9,
      "outputs": [
        {
          "output_type": "stream",
          "name": "stdout",
          "text": [
            "Its executed\n"
          ]
        }
      ]
    },
    {
      "cell_type": "code",
      "source": [
        "class person:\n",
        "  def pass_name(self,name):\n",
        "    self.name=name\n",
        "\n",
        "  def pass_surname(self,surname):\n",
        "    self.surname=surname\n",
        "\n",
        "  def pass_yob(self,yob):\n",
        "    self.yob=yob"
      ],
      "metadata": {
        "id": "Zu01NaBhOW9K"
      },
      "execution_count": 10,
      "outputs": []
    },
    {
      "cell_type": "code",
      "source": [
        "p= person()"
      ],
      "metadata": {
        "id": "HzuX6fqeQSWF"
      },
      "execution_count": 11,
      "outputs": []
    },
    {
      "cell_type": "code",
      "source": [
        "p.pass_name(\"sidd\")\n",
        "p.pass_surname(\"Borgohain\")\n",
        "p.pass_yob(1991)"
      ],
      "metadata": {
        "id": "6GSJMUJjQWEf"
      },
      "execution_count": 12,
      "outputs": []
    },
    {
      "cell_type": "code",
      "source": [
        "p.name"
      ],
      "metadata": {
        "colab": {
          "base_uri": "https://localhost:8080/",
          "height": 35
        },
        "id": "vhl-tAQRQXkj",
        "outputId": "0c9f4889-eb3e-41b8-feb9-f2d5f48a72b8"
      },
      "execution_count": 13,
      "outputs": [
        {
          "output_type": "execute_result",
          "data": {
            "text/plain": [
              "'sidd'"
            ],
            "application/vnd.google.colaboratory.intrinsic+json": {
              "type": "string"
            }
          },
          "metadata": {},
          "execution_count": 13
        }
      ]
    },
    {
      "cell_type": "code",
      "source": [
        "s=person()"
      ],
      "metadata": {
        "id": "Yg4BWqQ3QqqN"
      },
      "execution_count": 14,
      "outputs": []
    },
    {
      "cell_type": "code",
      "source": [
        "s.pass_name(\"sachin\")\n",
        "s.pass_surname(\"Verma\")\n",
        "s.pass_yob(1990)"
      ],
      "metadata": {
        "id": "CYStaE7QQw0O"
      },
      "execution_count": 15,
      "outputs": []
    },
    {
      "cell_type": "code",
      "source": [
        "s.name"
      ],
      "metadata": {
        "id": "7cuM3-8bRKuT",
        "outputId": "db6163c6-7ae4-42eb-fc08-6d8184998c94",
        "colab": {
          "base_uri": "https://localhost:8080/",
          "height": 35
        }
      },
      "execution_count": 16,
      "outputs": [
        {
          "output_type": "execute_result",
          "data": {
            "text/plain": [
              "'sachin'"
            ],
            "application/vnd.google.colaboratory.intrinsic+json": {
              "type": "string"
            }
          },
          "metadata": {},
          "execution_count": 16
        }
      ]
    },
    {
      "cell_type": "code",
      "source": [
        "class student:\n",
        "  def __init__(self,name,sname,yob):\n",
        "    self.name=name\n",
        "    self.sname=sname\n",
        "    self.yob=yob\n",
        "  def test(self,x,y):\n",
        "    return x+y+self.yob\n",
        "  def __str__(self):\n",
        "    return \"%s my name is  %s and my year of birth is %d\" %(self.name,self.sname,self.yob)"
      ],
      "metadata": {
        "id": "g0wG-LlyRPgH"
      },
      "execution_count": 26,
      "outputs": []
    },
    {
      "cell_type": "code",
      "source": [
        "p=student(\"siddhartha\",\"Borgohain\",1991)"
      ],
      "metadata": {
        "id": "z2so_cWhABF2"
      },
      "execution_count": 27,
      "outputs": []
    },
    {
      "cell_type": "code",
      "source": [
        "print(p)"
      ],
      "metadata": {
        "colab": {
          "base_uri": "https://localhost:8080/"
        },
        "id": "4MKx4jIhAOUh",
        "outputId": "868422a3-4113-440b-b02f-12e6a28d391e"
      },
      "execution_count": 28,
      "outputs": [
        {
          "output_type": "stream",
          "name": "stdout",
          "text": [
            "siddhartha my name is  Borgohain and my year of birth is 1991\n"
          ]
        }
      ]
    },
    {
      "cell_type": "code",
      "source": [
        "p.test(3,4)"
      ],
      "metadata": {
        "colab": {
          "base_uri": "https://localhost:8080/"
        },
        "id": "Wgk4TOwhAQVp",
        "outputId": "e411ba5f-18ba-40ac-f1ce-34ab9eb7d482"
      },
      "execution_count": 31,
      "outputs": [
        {
          "output_type": "execute_result",
          "data": {
            "text/plain": [
              "1998"
            ]
          },
          "metadata": {},
          "execution_count": 31
        }
      ]
    },
    {
      "cell_type": "code",
      "source": [
        "class test:\n",
        "  pass"
      ],
      "metadata": {
        "id": "ssv84eNnBhg7"
      },
      "execution_count": 32,
      "outputs": []
    },
    {
      "cell_type": "code",
      "source": [
        "p=test()\n",
        "p.name=\"sid\"\n",
        "p.sname=\"borgohain\"\n",
        "p.yob=1991"
      ],
      "metadata": {
        "id": "iN3kqDgoBzR6"
      },
      "execution_count": 33,
      "outputs": []
    },
    {
      "cell_type": "code",
      "source": [
        "p.name"
      ],
      "metadata": {
        "colab": {
          "base_uri": "https://localhost:8080/",
          "height": 35
        },
        "id": "-KKPXcZJB7yJ",
        "outputId": "24b5668f-09ea-48d7-d86b-f65a389b9a58"
      },
      "execution_count": 34,
      "outputs": [
        {
          "output_type": "execute_result",
          "data": {
            "text/plain": [
              "'sid'"
            ],
            "application/vnd.google.colaboratory.intrinsic+json": {
              "type": "string"
            }
          },
          "metadata": {},
          "execution_count": 34
        }
      ]
    },
    {
      "cell_type": "code",
      "source": [
        "s=test()\n",
        "s.name=\"Akanksha\""
      ],
      "metadata": {
        "id": "yZ6Z5BYmB83u"
      },
      "execution_count": 35,
      "outputs": []
    },
    {
      "cell_type": "code",
      "source": [
        "s.name"
      ],
      "metadata": {
        "colab": {
          "base_uri": "https://localhost:8080/",
          "height": 35
        },
        "id": "R_OYszBiCDxo",
        "outputId": "c520ca3e-33eb-4d29-afb9-1ab663b62f04"
      },
      "execution_count": 36,
      "outputs": [
        {
          "output_type": "execute_result",
          "data": {
            "text/plain": [
              "'Akanksha'"
            ],
            "application/vnd.google.colaboratory.intrinsic+json": {
              "type": "string"
            }
          },
          "metadata": {},
          "execution_count": 36
        }
      ]
    },
    {
      "cell_type": "code",
      "source": [
        "p.name"
      ],
      "metadata": {
        "colab": {
          "base_uri": "https://localhost:8080/",
          "height": 35
        },
        "id": "kcFauz4CCEwz",
        "outputId": "c4429b2e-aa37-4c60-d40d-b9ddec945d90"
      },
      "execution_count": 37,
      "outputs": [
        {
          "output_type": "execute_result",
          "data": {
            "text/plain": [
              "'sid'"
            ],
            "application/vnd.google.colaboratory.intrinsic+json": {
              "type": "string"
            }
          },
          "metadata": {},
          "execution_count": 37
        }
      ]
    },
    {
      "cell_type": "code",
      "source": [
        "class school:\n",
        "  def __init__(self,sname,city,population):\n",
        "    self._sname=sname\n",
        "    self._city=city\n",
        "    self._population=population"
      ],
      "metadata": {
        "id": "7hF3niH_CGm_"
      },
      "execution_count": 39,
      "outputs": []
    },
    {
      "cell_type": "code",
      "source": [
        "pr=school(\"jyotibp\",\"bokakhat\",2390000)"
      ],
      "metadata": {
        "id": "im0jrS3jHs4m"
      },
      "execution_count": 40,
      "outputs": []
    },
    {
      "cell_type": "code",
      "source": [
        "pr._sname"
      ],
      "metadata": {
        "colab": {
          "base_uri": "https://localhost:8080/",
          "height": 35
        },
        "id": "yphhzY0NIAsi",
        "outputId": "2f11a80d-5dab-4989-e97e-221844b96c9e"
      },
      "execution_count": 41,
      "outputs": [
        {
          "output_type": "execute_result",
          "data": {
            "text/plain": [
              "'jyotibp'"
            ],
            "application/vnd.google.colaboratory.intrinsic+json": {
              "type": "string"
            }
          },
          "metadata": {},
          "execution_count": 41
        }
      ]
    },
    {
      "cell_type": "code",
      "source": [
        "pr.__dict__"
      ],
      "metadata": {
        "colab": {
          "base_uri": "https://localhost:8080/"
        },
        "id": "IMEhd1ZnIFfV",
        "outputId": "24bc07df-d24c-489c-87d5-72d2a6302a88"
      },
      "execution_count": 44,
      "outputs": [
        {
          "output_type": "execute_result",
          "data": {
            "text/plain": [
              "{'_city': 'bokakhat', '_population': 2390000, '_sname': 'jyotibp'}"
            ]
          },
          "metadata": {},
          "execution_count": 44
        }
      ]
    },
    {
      "cell_type": "code",
      "source": [
        "class School:\n",
        "  def __init__(self,sname,city,population):\n",
        "    self.__sname=sname\n",
        "    self._city=city\n",
        "    self._population=population"
      ],
      "metadata": {
        "id": "dtlmZNedIPi2"
      },
      "execution_count": 51,
      "outputs": []
    },
    {
      "cell_type": "code",
      "source": [
        "pv=School(\"addasd\",\"sadas\",12312)"
      ],
      "metadata": {
        "id": "TDOvNdgaJQJK"
      },
      "execution_count": 52,
      "outputs": []
    },
    {
      "cell_type": "code",
      "source": [
        "pv.__dict__"
      ],
      "metadata": {
        "colab": {
          "base_uri": "https://localhost:8080/"
        },
        "id": "1JnVJUPiJgU8",
        "outputId": "3cc0ac32-a28d-47c0-d697-92da16537647"
      },
      "execution_count": 53,
      "outputs": [
        {
          "output_type": "execute_result",
          "data": {
            "text/plain": [
              "{'_School__sname': 'addasd', '_city': 'sadas', '_population': 12312}"
            ]
          },
          "metadata": {},
          "execution_count": 53
        }
      ]
    },
    {
      "cell_type": "code",
      "source": [
        "class man:\n",
        "  def __init__(self,name,sname,yob):\n",
        "    self.name=name\n",
        "    self.sname=sname\n",
        "    self.yob=yob\n",
        "  def __str__(self):\n",
        "    return \"Its executed\""
      ],
      "metadata": {
        "id": "JURZM8KZJjgd"
      },
      "execution_count": 52,
      "outputs": []
    },
    {
      "cell_type": "code",
      "source": [
        "class student(man):\n",
        "  def __init__(self,roll_no,college_name, *args):\n",
        "    super(student,self).__init__(*args)\n",
        "    self.roll_no= roll_no\n",
        "    self.college_name= college_name\n",
        "\n",
        "stud=student(2345,\"sdasd\",\"sidd\",\"Borgohain\",312312)\n",
        "\n"
      ],
      "metadata": {
        "id": "flZlX9N_z6lT"
      },
      "execution_count": 53,
      "outputs": []
    },
    {
      "cell_type": "code",
      "source": [
        "stud.roll_no"
      ],
      "metadata": {
        "colab": {
          "base_uri": "https://localhost:8080/"
        },
        "id": "kV1Grjh703wo",
        "outputId": "e86802b7-74c0-4bc5-a8d9-41f1d453fb00"
      },
      "execution_count": 54,
      "outputs": [
        {
          "output_type": "execute_result",
          "data": {
            "text/plain": [
              "2345"
            ]
          },
          "metadata": {},
          "execution_count": 54
        }
      ]
    },
    {
      "cell_type": "code",
      "source": [
        "stud.test(3,5)"
      ],
      "metadata": {
        "colab": {
          "base_uri": "https://localhost:8080/"
        },
        "id": "QNZnts2L1rqh",
        "outputId": "5ec12ee5-5615-4b0f-8c59-4dfec8533f07"
      },
      "execution_count": 13,
      "outputs": [
        {
          "output_type": "execute_result",
          "data": {
            "text/plain": [
              "312320"
            ]
          },
          "metadata": {},
          "execution_count": 13
        }
      ]
    },
    {
      "cell_type": "code",
      "source": [
        "class a:\n",
        "  def test(self):\n",
        "    print(\"my name is sidd\")\n",
        "\n",
        "class b:\n",
        "  def test(self):\n",
        "    print(\"my surname is Borgohain\")\n",
        "\n",
        "class c(a,b):\n",
        "  obja= a()\n",
        "  objb= b()\n",
        "  obja.test()\n",
        "  objb.test()\n",
        "\n",
        "  objc =c()\n",
        "  objc.test()"
      ],
      "metadata": {
        "colab": {
          "base_uri": "https://localhost:8080/"
        },
        "id": "K76j5Ej710E0",
        "outputId": "47c219fe-405a-4ce5-f8f2-427a6b3c175b"
      },
      "execution_count": 16,
      "outputs": [
        {
          "output_type": "stream",
          "name": "stdout",
          "text": [
            "my name is sidd\n",
            "my surname is Borgohain\n",
            "my name is sidd\n"
          ]
        }
      ]
    },
    {
      "cell_type": "code",
      "source": [
        "class Brand:\n",
        "  def __init__(self, bname, car_price):\n",
        "    self.bname=bname\n",
        "    self.car_price=car_price\n",
        "  def __str__(self):\n",
        "    return \"the brand of the car is %s\"%(self.bname)"
      ],
      "metadata": {
        "id": "tKDJqjvB2L_1"
      },
      "execution_count": 56,
      "outputs": []
    },
    {
      "cell_type": "code",
      "source": [
        "class car(Brand):\n",
        "  def __init__(self, car_name,*args):\n",
        "     super(car,self).__init__(*args)\n",
        "     self.car_name=car_name\n",
        "  def __str__(self):\n",
        "    return super(car,self).__str__() + \" Car name is {}\".format(self.car_name)\n",
        "\n",
        "\n",
        "c=car(\"Galardo\",\"Lamborginy\",190009090)"
      ],
      "metadata": {
        "id": "KtOK5uB56p6x"
      },
      "execution_count": 58,
      "outputs": []
    },
    {
      "cell_type": "code",
      "source": [
        "print(c)"
      ],
      "metadata": {
        "colab": {
          "base_uri": "https://localhost:8080/"
        },
        "id": "HcR9cJ-V7tWU",
        "outputId": "7daa436c-c71a-4b8d-a9f9-383b8a40abab"
      },
      "execution_count": 59,
      "outputs": [
        {
          "output_type": "stream",
          "name": "stdout",
          "text": [
            "the brand of the car is Lamborginy Car name is Galardo\n"
          ]
        }
      ]
    },
    {
      "cell_type": "code",
      "source": [
        "c.car_name"
      ],
      "metadata": {
        "colab": {
          "base_uri": "https://localhost:8080/",
          "height": 35
        },
        "id": "6D1WJYGz8LQu",
        "outputId": "2041fbe3-a43c-4c16-f87a-10573d73a712"
      },
      "execution_count": 60,
      "outputs": [
        {
          "output_type": "execute_result",
          "data": {
            "text/plain": [
              "'Galardo'"
            ],
            "application/vnd.google.colaboratory.intrinsic+json": {
              "type": "string"
            }
          },
          "metadata": {},
          "execution_count": 60
        }
      ]
    },
    {
      "cell_type": "code",
      "source": [
        ""
      ],
      "metadata": {
        "id": "XGmlwuzb_vau"
      },
      "execution_count": null,
      "outputs": []
    }
  ]
}